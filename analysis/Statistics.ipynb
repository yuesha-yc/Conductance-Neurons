{
 "cells": [
  {
   "cell_type": "code",
   "execution_count": 5,
   "id": "4a87b406",
   "metadata": {},
   "outputs": [],
   "source": [
    "using Statistics, Distributions"
   ]
  },
  {
   "cell_type": "code",
   "execution_count": 6,
   "id": "66d13899",
   "metadata": {},
   "outputs": [
    {
     "data": {
      "text/plain": [
       "2-element Vector{Vector{Float32}}:\n",
       " []\n",
       " []"
      ]
     },
     "metadata": {},
     "output_type": "display_data"
    }
   ],
   "source": [
    "N_cells = 2\n",
    "counts = [Float32[] for _ in 1:N_cells]"
   ]
  },
  {
   "cell_type": "code",
   "execution_count": 10,
   "id": "9d8eed6e",
   "metadata": {},
   "outputs": [],
   "source": [
    "# fill counts with poisson spikes\n",
    "for i in 1:N_cells\n",
    "    rate = 1\n",
    "    counts[i] = rand(Poisson(rate), 100)\n",
    "end"
   ]
  },
  {
   "cell_type": "code",
   "execution_count": 29,
   "id": "f29d5228",
   "metadata": {},
   "outputs": [
    {
     "data": {
      "text/plain": [
       "2-element Vector{Vector{Float32}}:\n",
       " [1.0, 1.0, 2.0, 0.0, 0.0, 2.0, 3.0, 3.0, 2.0, 1.0  …  0.0, 2.0, 1.0, 1.0, 1.0, 2.0, 1.0, 3.0, 0.0, 0.0]\n",
       " [2.0, 2.0, 3.0, 1.0, 0.0, 2.0, 2.0, 1.0, 0.0, 0.0  …  0.0, 3.0, 2.0, 0.0, 0.0, 2.0, 1.0, 2.0, 2.0, 1.0]"
      ]
     },
     "metadata": {},
     "output_type": "display_data"
    }
   ],
   "source": [
    "counts"
   ]
  },
  {
   "cell_type": "code",
   "execution_count": 15,
   "id": "6a256e32",
   "metadata": {},
   "outputs": [
    {
     "data": {
      "text/plain": [
       "cff (generic function with 1 method)"
      ]
     },
     "metadata": {},
     "output_type": "display_data"
    }
   ],
   "source": [
    "function cff(counts::AbstractMatrix)\n",
    "    @assert size(counts, 1) == 2 \"counts must be 2 × n_bins\"\n",
    "    n1, n2 = counts[1, :], counts[2, :]\n",
    "    mean1, mean2 = mean(n1), mean(n2)\n",
    "    cov12 = cov(n1, n2)           # covariance across bins\n",
    "    return cov12 / sqrt(mean1 * mean2)\n",
    "end"
   ]
  },
  {
   "cell_type": "code",
   "execution_count": 31,
   "id": "64b83588",
   "metadata": {},
   "outputs": [
    {
     "data": {
      "text/plain": [
       "2×100 adjoint(::Matrix{Float32}) with eltype Float32:\n",
       " 1.0  1.0  2.0  0.0  0.0  2.0  3.0  3.0  …  1.0  1.0  2.0  1.0  3.0  0.0  0.0\n",
       " 2.0  2.0  3.0  1.0  0.0  2.0  2.0  1.0     0.0  0.0  2.0  1.0  2.0  2.0  1.0"
      ]
     },
     "metadata": {},
     "output_type": "display_data"
    }
   ],
   "source": [
    "hcat(counts...)'"
   ]
  },
  {
   "cell_type": "code",
   "execution_count": 30,
   "id": "0e7cdd49",
   "metadata": {},
   "outputs": [
    {
     "data": {
      "text/plain": [
       "NaN32"
      ]
     },
     "metadata": {},
     "output_type": "display_data"
    }
   ],
   "source": [
    "cov(counts[1,:], counts[2,:])"
   ]
  },
  {
   "cell_type": "code",
   "execution_count": 32,
   "id": "cccf93a1",
   "metadata": {},
   "outputs": [
    {
     "data": {
      "text/plain": [
       "0.1275426f0"
      ]
     },
     "metadata": {},
     "output_type": "display_data"
    }
   ],
   "source": [
    "cff(hcat(counts...)')"
   ]
  },
  {
   "cell_type": "code",
   "execution_count": 33,
   "id": "40e81b51",
   "metadata": {},
   "outputs": [
    {
     "name": "stdout",
     "output_type": "stream",
     "text": [
      "co_ff(counts) = 0.0009484183798700365\n"
     ]
    },
    {
     "data": {
      "text/plain": [
       "0.0009484183798700365"
      ]
     },
     "metadata": {},
     "output_type": "display_data"
    }
   ],
   "source": [
    "using Statistics, Random\n",
    "\n",
    "function pois_counts(λ, n_bins; rng=Random.default_rng())\n",
    "    rand.(rng, Poisson(λ), n_bins)\n",
    "end\n",
    "\n",
    "function co_ff(counts)\n",
    "    n1, n2 = counts[1,:], counts[2,:]\n",
    "    m1, m2 = mean(n1), mean(n2)\n",
    "    return (cov(n1, n2)) / sqrt(m1*m2)\n",
    "end\n",
    "\n",
    "n = 50_000\n",
    "c1 = pois_counts(10.0, n)\n",
    "c2 = pois_counts(7.0, n)\n",
    "counts = vcat(reshape(c1,1,:), reshape(c2,1,:))\n",
    "@show co_ff(counts)  # should be ≈ 0\n"
   ]
  },
  {
   "cell_type": "code",
   "execution_count": 34,
   "id": "df1fdff3",
   "metadata": {},
   "outputs": [
    {
     "data": {
      "text/plain": [
       "2×50000 Matrix{Int64}:\n",
       " 9  13  10  14  10  7  10  8  8  12  14  …  10  11  16  12  13  7  16  13  11\n",
       " 5   3   7   1   4  9   5  5  7   4  11      8  10   9   3   2  8   9  10   8"
      ]
     },
     "metadata": {},
     "output_type": "display_data"
    }
   ],
   "source": [
    "counts"
   ]
  },
  {
   "cell_type": "code",
   "execution_count": 35,
   "id": "b40df88f",
   "metadata": {},
   "outputs": [
    {
     "data": {
      "text/plain": [
       "50000-element Vector{Int64}:\n",
       "  9\n",
       " 13\n",
       " 10\n",
       " 14\n",
       " 10\n",
       "  7\n",
       " 10\n",
       "  8\n",
       "  8\n",
       " 12\n",
       "  ⋮\n",
       " 10\n",
       " 11\n",
       " 16\n",
       " 12\n",
       " 13\n",
       "  7\n",
       " 16\n",
       " 13\n",
       " 11"
      ]
     },
     "metadata": {},
     "output_type": "display_data"
    }
   ],
   "source": [
    "c1"
   ]
  },
  {
   "cell_type": "code",
   "execution_count": null,
   "id": "db8454b7",
   "metadata": {},
   "outputs": [],
   "source": []
  }
 ],
 "metadata": {
  "kernelspec": {
   "display_name": "Julia 1.12.0",
   "language": "julia",
   "name": "julia-1.12"
  },
  "language_info": {
   "file_extension": ".jl",
   "mimetype": "application/julia",
   "name": "julia",
   "version": "1.12.0"
  }
 },
 "nbformat": 4,
 "nbformat_minor": 5
}
