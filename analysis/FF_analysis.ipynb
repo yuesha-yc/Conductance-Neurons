{
 "cells": [
  {
   "cell_type": "code",
   "execution_count": 9,
   "id": "8b977974",
   "metadata": {},
   "outputs": [],
   "source": [
    "include(\"../src/Analysis.jl\")\n",
    "using ..Analysis"
   ]
  },
  {
   "cell_type": "code",
   "execution_count": 10,
   "id": "c40f5141",
   "metadata": {},
   "outputs": [
    {
     "name": "stdout",
     "output_type": "stream",
     "text": [
      "[0.9697876078146543, 0.9774042091553049, 1.0621200042357726, 0.9787029971119423, 0.9743418615797524]\n"
     ]
    }
   ],
   "source": [
    "using Random, Distributions\n",
    "rng = MersenneTwister(42)\n",
    "T, P, R = 5, 10, 1000\n",
    "counts = rand(rng, Poisson(5.0), T, P, R)\n",
    "\n",
    "ff = mean_matched_ff(counts; nbins=15, n_reps=50, seed=123)\n",
    "println(ff)\n"
   ]
  },
  {
   "cell_type": "code",
   "execution_count": 11,
   "id": "a7280238",
   "metadata": {},
   "outputs": [
    {
     "name": "stdout",
     "output_type": "stream",
     "text": [
      "[0.940270560680379, 0.9637043863847982, 0.9968987197807464, 0.9992180612335645, 1.0405489431758452]\n"
     ]
    }
   ],
   "source": [
    "T, R = 5, 1000\n",
    "counts = rand(rng, Poisson(5.0), T, R)\n",
    "ff_per_time = fano_per_time(counts)\n",
    "println(ff_per_time)"
   ]
  },
  {
   "cell_type": "code",
   "execution_count": 12,
   "id": "b656893c",
   "metadata": {},
   "outputs": [
    {
     "data": {
      "text/plain": [
       "1.0289331630113734"
      ]
     },
     "metadata": {},
     "output_type": "display_data"
    }
   ],
   "source": [
    "R = 1000\n",
    "counts = rand(rng, Poisson(5.0), R)\n",
    "ff = fano(counts)"
   ]
  },
  {
   "cell_type": "code",
   "execution_count": null,
   "id": "15793dd4",
   "metadata": {},
   "outputs": [],
   "source": []
  }
 ],
 "metadata": {
  "kernelspec": {
   "display_name": "Julia 1.12.0",
   "language": "julia",
   "name": "julia-1.12"
  },
  "language_info": {
   "file_extension": ".jl",
   "mimetype": "application/julia",
   "name": "julia",
   "version": "1.12.0"
  }
 },
 "nbformat": 4,
 "nbformat_minor": 5
}
