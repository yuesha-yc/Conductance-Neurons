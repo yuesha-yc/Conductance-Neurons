{
 "cells": [
  {
   "cell_type": "code",
   "execution_count": null,
   "id": "eeb67360",
   "metadata": {},
   "outputs": [],
   "source": []
  }
 ],
 "metadata": {
  "kernelspec": {
   "display_name": ".venv (3.6.8)",
   "language": "python",
   "name": "python3"
  },
  "language_info": {
   "name": "python",
   "version": "3.6.8"
  }
 },
 "nbformat": 4,
 "nbformat_minor": 5
}
