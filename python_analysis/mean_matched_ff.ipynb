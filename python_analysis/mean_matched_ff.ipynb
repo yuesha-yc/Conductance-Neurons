{
 "cells": [
  {
   "cell_type": "code",
   "execution_count": 6,
   "id": "fc9ab222",
   "metadata": {},
   "outputs": [
    {
     "data": {
      "text/plain": [
       "mean_matched_ff"
      ]
     },
     "metadata": {},
     "output_type": "display_data"
    }
   ],
   "source": [
    "using Random, Statistics\n",
    "\n",
    "\"\"\"\n",
    "mean_matched_ff(counts; nbins=20, n_reps=50, seed=0)\n",
    "\n",
    "counts: Array{<:Real,3} with dims (T, n_units, n_trials)\n",
    "Returns: Vector{Float64} of length T (mean-matched FF per time)\n",
    "\"\"\"\n",
    "function mean_matched_ff(counts; nbins=20, n_reps=50, seed=0)\n",
    "    T, U, R = size(counts)\n",
    "\n",
    "    # per-time per-unit mean/var across trials\n",
    "    means = [mean(@view counts[t,u,:]) for t in 1:T, u in 1:U]\n",
    "    vars  = [var(@view counts[t,u,:])  for t in 1:T, u in 1:U]\n",
    "\n",
    "    # bin edges from pooled positive means\n",
    "    pool = [μ for μ in vec(means) if μ > 0]\n",
    "    mn, mx = minimum(pool), maximum(pool)\n",
    "    edges = collect(range(mn, mx, length=nbins+1))\n",
    "    nb = length(edges) - 1\n",
    "\n",
    "    # per-time, per-bin members (unit indices)\n",
    "    bin_members = [[Int[] for _ in 1:nb] for _ in 1:T]\n",
    "    for t in 1:T, u in 1:U\n",
    "        μ = means[t,u]\n",
    "        if μ > 0\n",
    "            b = clamp(searchsortedlast(edges, μ), 1, nb)\n",
    "            push!(bin_members[t][b], u)\n",
    "        end\n",
    "    end\n",
    "    @info bin_members\n",
    "\n",
    "    # greatest common per-bin counts across times (fixed)\n",
    "    common = [minimum([length(bin_members[t][b]) for t in 1:T]) for b in 1:nb]\n",
    "\n",
    "    # repetitions\n",
    "    ff = zeros(Float64, T)\n",
    "    rng = MersenneTwister(seed)\n",
    "    for rep in 1:n_reps\n",
    "        for t in 1:T\n",
    "            sel = Int[]\n",
    "            for b in 1:nb\n",
    "                h = common[b]\n",
    "                if h > 0\n",
    "                    members = bin_members[t][b]\n",
    "                    idx = (length(members) <= h) ? collect(1:length(members)) : randperm(rng, length(members))[1:h]\n",
    "                    append!(sel, members[idx])\n",
    "                end\n",
    "            end\n",
    "            if !isempty(sel)\n",
    "                μs = means[t, sel]\n",
    "                vs = vars[t, sel]\n",
    "                ff[t] += mean(vs ./ μs)\n",
    "            end\n",
    "        end\n",
    "    end\n",
    "    ff ./= n_reps\n",
    "    return ff\n",
    "end\n"
   ]
  },
  {
   "cell_type": "code",
   "execution_count": 16,
   "id": "0d48f3cf",
   "metadata": {},
   "outputs": [
    {
     "name": "stdout",
     "output_type": "stream",
     "text": [
      "[NaN, NaN, NaN, NaN, NaN]\n"
     ]
    },
    {
     "name": "stderr",
     "output_type": "stream",
     "text": [
      "┌ Info: [[[3, 10, 49, 60, 79, 86], [2, 9, 13, 26, 33, 47, 57, 59, 66, 85], [19, 23, 25, 39, 52, 56, 68, 69, 73, 80, 83, 87, 90, 95], [16, 17, 21, 30, 37, 43, 51, 53, 54, 64, 67, 75, 76, 91, 94], [6, 8, 20, 36, 38, 40, 44, 45, 50, 61, 65, 70, 74, 77, 78, 84, 88, 93], [5, 7, 12, 15, 18, 22, 24, 27, 31, 41, 58, 62, 96, 99], [4, 11, 29, 32, 42, 55, 71, 72, 97], Int64[], [34, 48, 92, 100], [14, 35, 82, 89], [28, 46, 98], [1, 81], Int64[], Int64[], Int64[]], [[7, 93], [9, 13, 21, 42, 68, 75, 88], [19, 34, 43, 48, 60, 64, 66, 69, 76, 80, 84, 86, 92, 98], [2, 5, 10, 11, 12, 23, 27, 28, 31, 32, 33, 36, 38, 40, 41, 47, 49, 51, 61, 85, 94, 95, 96], [6, 8, 14, 17, 30, 45, 50, 55, 58, 65, 67, 71, 73, 77, 82, 83, 87, 91, 99], [1, 15, 18, 22, 26, 29, 39, 46, 56, 57, 59, 62, 79, 100], [4, 16, 20, 35, 52, 54], Int64[], [3, 24, 53, 63, 81, 90], [25, 70, 74], [37, 44, 72, 89], [78], Int64[], Int64[], Int64[]], [[78, 100], [6, 14, 35, 40, 69, 70, 81, 87], [5, 8, 10, 20, 21, 22, 28, 38, 43, 46, 52, 58, 59, 61, 62, 67, 74, 91, 95, 97], [34, 37, 42, 47, 54, 79, 85, 89], [1, 2, 3, 7, 11, 12, 13, 15, 19, 24, 30, 31, 32, 33, 36, 49, 51, 73, 86, 94, 96], [9, 16, 17, 23, 26, 39, 44, 55, 63, 72, 75, 88, 92, 99], [4, 18, 25, 27, 29, 41, 50, 56, 66, 68, 76, 84, 93], Int64[], [48, 53, 65, 77, 82, 98], [45, 64, 80, 83, 90], [57, 71], Int64[], Int64[], Int64[], [60]], [[21, 25, 40, 43, 50, 93, 100], [6, 28, 34, 75, 76], [3, 4, 8, 13, 27, 29, 31, 56, 57, 64, 69, 70, 92, 97, 98], [1, 9, 11, 17, 22, 23, 24, 30, 38, 39, 48, 51, 52, 54, 59, 65, 73, 79, 80, 91, 95, 96], [7, 10, 15, 16, 20, 32, 35, 36, 47, 49, 55, 74, 77, 81, 86, 99], [14, 26, 45, 46, 58, 60, 61, 67, 68, 71, 72], [2, 5, 12, 33, 44, 53, 62, 63, 66, 78, 83, 84, 85, 89, 90], Int64[], [37, 41, 87, 88], [18, 19, 42, 82], Int64[], Int64[], Int64[], Int64[], Int64[]], [[18, 33, 43], [13, 20, 38, 39, 42, 46, 47, 51, 85], [2, 11, 14, 25, 28, 34, 44, 50, 52, 58, 72, 80, 81, 82, 98, 100], [8, 12, 16, 17, 23, 24, 27, 37, 56, 57, 60, 65, 74, 87, 92, 97, 99], [3, 4, 6, 15, 21, 30, 32, 59, 71, 75, 76, 77, 79, 86, 89, 91, 93], [7, 19, 26, 36, 48, 49, 61, 63, 64, 68, 96], [1, 5, 9, 22, 40, 54, 73, 78, 83, 88, 94], Int64[], [10, 31, 45, 53, 69, 95], [41, 62, 66, 67, 84, 90], [29, 55, 70], [35], Int64[], Int64[], Int64[]]]\n",
      "└ @ Main /Users/wyc/Research/Conductance-Neurons/python_analysis/jl_notebook_cell_df34fa98e69747e1a8f8a730347b8e2f_W0sZmlsZQ==.jl:31\n"
     ]
    }
   ],
   "source": [
    "using Random, Distributions\n",
    "rng = MersenneTwister(42)\n",
    "T, U, R = 5, 100, 1\n",
    "counts = rand(rng, Poisson(5.0), T, U, R)\n",
    "\n",
    "ff = mean_matched_ff(counts; nbins=15, n_reps=50, seed=123)\n",
    "println(ff)\n"
   ]
  },
  {
   "cell_type": "code",
   "execution_count": 54,
   "id": "fa5d80d9",
   "metadata": {},
   "outputs": [
    {
     "data": {
      "text/plain": [
       "mean_matched_ff"
      ]
     },
     "metadata": {},
     "output_type": "display_data"
    }
   ],
   "source": [
    "using Random, Statistics\n",
    "\n",
    "\"\"\"\n",
    "mean_matched_ff(counts; nbins=20, n_reps=50, seed=0)\n",
    "\n",
    "- counts: (T,P,R) where P are (unit×condition) pairs and R are repeats,\n",
    "          or (T,U,C,R) which will be reshaped to (T,P,R) with P=U*C.\n",
    "- returns: Vector{Float64} of length T (mean-matched FF per time).\n",
    "\"\"\"\n",
    "function mean_matched_ff(counts; nbins=20, n_reps=50, seed=0)\n",
    "    A = counts\n",
    "    nd = ndims(A)\n",
    "    if nd == 4\n",
    "        T, U, C, R = size(A)\n",
    "        A = reshape(A, T, U*C, R)  # (T,P,R)\n",
    "    elseif nd == 3\n",
    "        T, P, R = size(A)\n",
    "    else\n",
    "        error(\"counts must be (T,P,R) or (T,U,C,R)\")\n",
    "    end\n",
    "    T, P, R = size(A)\n",
    "\n",
    "    # per-time, per-pair stats across repeats\n",
    "    means = [mean(@view A[t,p,:]) for t in 1:T, p in 1:P]\n",
    "    vars  = [var(@view A[t,p,:])  for t in 1:T, p in 1:P]\n",
    "\n",
    "    # pooled positive means → common bins\n",
    "    pool = [μ for μ in vec(means) if μ > 0]\n",
    "    mn, mx = minimum(pool), maximum(pool)\n",
    "    edges = collect(range(mn, mx, length=nbins+1))\n",
    "    nb = length(edges) - 1\n",
    "\n",
    "    # collect members per time/bin (indices into pairs)\n",
    "    bins = [[Int[] for _ in 1:nb] for _ in 1:T]\n",
    "    for t in 1:T, p in 1:P\n",
    "        μ = means[t,p]\n",
    "        if μ > 0\n",
    "            b = clamp(searchsortedlast(edges, μ), 1, nb)\n",
    "            push!(bins[t][b], p)\n",
    "        end\n",
    "    end\n",
    "\n",
    "    # greatest common per-bin counts across times\n",
    "    common = [minimum([length(bins[t][b]) for t in 1:T]) for b in 1:nb]\n",
    "\n",
    "    # subsample repeatedly and average FF\n",
    "    rng = MersenneTwister(seed)\n",
    "    ff = zeros(Float64, T)\n",
    "    for rep in 1:n_reps\n",
    "        for t in 1:T\n",
    "            sel = Int[]\n",
    "            for b in 1:nb\n",
    "                h = common[b]\n",
    "                if h > 0\n",
    "                    members = bins[t][b]\n",
    "                    idx = (length(members) <= h) ? collect(1:length(members)) : randperm(rng, length(members))[1:h]\n",
    "                    append!(sel, members[idx])\n",
    "                end\n",
    "            end\n",
    "            if !isempty(sel)\n",
    "                μs = means[t, sel]\n",
    "                vs = vars[t,  sel]\n",
    "                ff[t] += mean(vs ./ μs)\n",
    "            end\n",
    "        end\n",
    "    end\n",
    "    ff ./= n_reps\n",
    "    return ff\n",
    "end\n"
   ]
  },
  {
   "cell_type": "code",
   "execution_count": 60,
   "id": "be7c7311",
   "metadata": {},
   "outputs": [
    {
     "name": "stdout",
     "output_type": "stream",
     "text": [
      "[0.9697876078146543, 0.9774042091553049, 1.0621200042357726, 0.9787029971119423, 0.9743418615797524]\n"
     ]
    }
   ],
   "source": [
    "using Random, Distributions\n",
    "rng = MersenneTwister(42)\n",
    "T, P, R = 5, 10, 1000\n",
    "counts = rand(rng, Poisson(5.0), T, P, R)\n",
    "\n",
    "ff = mean_matched_ff(counts; nbins=15, n_reps=50, seed=123)\n",
    "println(ff)\n"
   ]
  },
  {
   "cell_type": "code",
   "execution_count": 61,
   "id": "c5d171b9",
   "metadata": {},
   "outputs": [
    {
     "data": {
      "text/plain": [
       "Main.Analysis"
      ]
     },
     "metadata": {},
     "output_type": "display_data"
    }
   ],
   "source": [
    "include(\"../src/Analysis.jl\")"
   ]
  },
  {
   "cell_type": "code",
   "execution_count": null,
   "id": "7b19e1f7",
   "metadata": {},
   "outputs": [],
   "source": []
  }
 ],
 "metadata": {
  "kernelspec": {
   "display_name": "Julia 1.12.0",
   "language": "julia",
   "name": "julia-1.12"
  },
  "language_info": {
   "file_extension": ".jl",
   "mimetype": "application/julia",
   "name": "julia",
   "version": "1.12.0"
  }
 },
 "nbformat": 4,
 "nbformat_minor": 5
}
